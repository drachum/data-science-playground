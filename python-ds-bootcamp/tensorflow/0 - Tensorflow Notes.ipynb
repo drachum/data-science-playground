{
 "cells": [
  {
   "cell_type": "markdown",
   "metadata": {},
   "source": [
    "# Tensorflow"
   ]
  },
  {
   "cell_type": "markdown",
   "metadata": {},
   "source": [
    "## Neural Networks Basics\n",
    "\n",
    "### Perceptrons, ANNs and Multi-class\n",
    "\n",
    "1. Perceptron: inputs (X) => f(x) => outputs\n",
    "2. Multi-layer perceptron: connect many layers of perceptrons\n",
    "3. Outputs of one perceptron are connected as inputs of others\n",
    "4. Deep Neural Networks:\n",
    "  * networks with more than 2 hidden layers\n",
    "5. Activation Functions\n",
    "  * Step Function: between 0 and 1, changing at a threshold\n",
    "  * Sigmoid (logit)\n",
    "  * Hyperbolic tangent (tanh)\n",
    "  * Rectified Linear (ReLU), 0 if <= 0, y = x if > 0\n",
    "6. Multi-class\n",
    "  * Non-exclusive classes\n",
    "  * Mutually Exclusive classes\n",
    "7. Organizing multi-class\n",
    "  * One output per class\n",
    "  * Use one-hot encoding to classify\n",
    "    \n",
    "### Optimization\n",
    "\n",
    "1. Cost Functions\n",
    "  * Quadractic cost function\n",
    "  * Use Gradient Descent to optimize\n",
    "  * Adam is the most used algorithm nowadays\n",
    "  * Cross entropy loss for classification problems\n",
    "2. Backpropagation\n",
    "  * Use the gradient to go back at the network and adjust weights in each step"
   ]
  },
  {
   "cell_type": "markdown",
   "metadata": {},
   "source": [
    "## Keras\n",
    "\n",
    "### Loss Funcions to use\n",
    "\n",
    "* Multiclass: categorical_crossentropy\n",
    "* Binary: binary_crossentropy\n",
    "* Regression: MSE\n",
    "* Always add early stopping and dropout to prevent overfitting of the models.\n",
    "\n",
    "\n",
    "### Tensorboad\n",
    "\n",
    "* Visualize Tensorflow models"
   ]
  },
  {
   "cell_type": "code",
   "execution_count": null,
   "metadata": {},
   "outputs": [],
   "source": []
  }
 ],
 "metadata": {
  "kernelspec": {
   "display_name": "Python 3",
   "language": "python",
   "name": "python3"
  },
  "language_info": {
   "codemirror_mode": {
    "name": "ipython",
    "version": 3
   },
   "file_extension": ".py",
   "mimetype": "text/x-python",
   "name": "python",
   "nbconvert_exporter": "python",
   "pygments_lexer": "ipython3",
   "version": "3.7.3"
  }
 },
 "nbformat": 4,
 "nbformat_minor": 2
}
