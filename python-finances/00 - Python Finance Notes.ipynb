{
 "cells": [
  {
   "cell_type": "markdown",
   "metadata": {},
   "source": [
    "# Python Finance Notes\n",
    "\n",
    "\n",
    "## Numpy\n",
    "\n",
    "\n",
    "* np.array\n",
    "* np.rand.random\n",
    "* np.random.randn\n",
    "* ...\n",
    "\n",
    "\n",
    "## Pandas\n",
    "\n",
    "\n",
    "* pd.Series => Indexes have labels (timestamps, names, ...)\n",
    "* Dataframe: a bunch of series that share the same index\n",
    "* axis=0 => add row\n",
    "* axis=1 => add col\n",
    "* df.loc => select rows based on labels\n",
    "* df.iloc => select row based on index (base 0 )\n",
    "* loc, iloc = row, col\n",
    "* df[df['W']>0] => returns only where W values are greater than 0\n",
    "* replace and, or for &, | when indexing dfs\n",
    "* Change index by set_index, reset_index\n",
    "* Multi-level index is also possible\n",
    "* XS used with multi-index\n",
    "\n",
    "\n",
    "Operations\n",
    "\n",
    "* dropna(), fillna()\n",
    "* Concatenate, merge, join\n",
    "* groupby(['A']).count()...\n",
    "* unique, nunique, value_counts\n",
    "* apply => applies a function at a colum\n",
    "* drop => drops a column\n",
    "* sort_values\n",
    "\n",
    "\n",
    "## Visualization\n",
    "\n",
    "\n",
    "* df.plot(kind)\n",
    "* df.plot.hist\n",
    "\n",
    "\n",
    "\n",
    "\n"
   ]
  }
 ],
 "metadata": {
  "kernelspec": {
   "display_name": "Python 3",
   "language": "python",
   "name": "python3"
  },
  "language_info": {
   "codemirror_mode": {
    "name": "ipython",
    "version": 3
   },
   "file_extension": ".py",
   "mimetype": "text/x-python",
   "name": "python",
   "nbconvert_exporter": "python",
   "pygments_lexer": "ipython3",
   "version": "3.8.2"
  }
 },
 "nbformat": 4,
 "nbformat_minor": 4
}
