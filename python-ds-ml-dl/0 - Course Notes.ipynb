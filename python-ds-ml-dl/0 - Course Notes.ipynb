{
 "cells": [
  {
   "cell_type": "markdown",
   "metadata": {},
   "source": [
    "# PDF and PMF\n",
    "\n",
    "PDF => probability density function => probability of an interval\n",
    "\n",
    "PMF => integral of PDF => probability of one event\n",
    "\n",
    "\n"
   ]
  },
  {
   "cell_type": "markdown",
   "metadata": {},
   "source": [
    "## Types of Distributions\n",
    "\n",
    "### PDFs\n",
    "\n",
    "Uniform => np.random.uniform\n",
    "\n",
    "Normal => np.random.normal\n",
    "\n",
    "Exponential => from scipy import expon\n",
    "\n",
    "\n",
    "### PMFs\n",
    "\n",
    "Binomial\n",
    "\n",
    "Poisson\n",
    "\n"
   ]
  },
  {
   "cell_type": "code",
   "execution_count": null,
   "metadata": {},
   "outputs": [],
   "source": []
  },
  {
   "cell_type": "code",
   "execution_count": null,
   "metadata": {},
   "outputs": [],
   "source": []
  }
 ],
 "metadata": {
  "kernelspec": {
   "display_name": "Python 3",
   "language": "python",
   "name": "python3"
  },
  "language_info": {
   "codemirror_mode": {
    "name": "ipython",
    "version": 3
   },
   "file_extension": ".py",
   "mimetype": "text/x-python",
   "name": "python",
   "nbconvert_exporter": "python",
   "pygments_lexer": "ipython3",
   "version": "3.7.3"
  }
 },
 "nbformat": 4,
 "nbformat_minor": 2
}
