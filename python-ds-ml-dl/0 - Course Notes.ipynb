{
 "cells": [
  {
   "cell_type": "markdown",
   "metadata": {},
   "source": [
    "# PDF and PMF\n",
    "\n",
    "PDF => probability density function => probability of an interval\n",
    "\n",
    "PMF => integral of PDF => probability of one event\n",
    "\n",
    "\n"
   ]
  },
  {
   "cell_type": "markdown",
   "metadata": {},
   "source": [
    "## Types of Distributions\n",
    "\n",
    "### PDFs\n",
    "\n",
    "1. Uniform => np.random.uniform\n",
    "2. Normal => np.random.normal\n",
    "3. Exponential => from scipy import expon\n",
    "\n",
    "\n",
    "### PMFs\n",
    "\n",
    "1. Binomial\n",
    "2. Poisson\n",
    "\n",
    "\n",
    "## Moments\n",
    "\n",
    "1. mean\n",
    "2. variance\n",
    "3. skew => how lopsided is the distribution, how is the tail of it? (longer tail to the left have negative skew)\n",
    "4. kurtosis => how thick is the distribution? Higher peaks have higher kurtosis\n"
   ]
  },
  {
   "cell_type": "code",
   "execution_count": null,
   "metadata": {},
   "outputs": [],
   "source": []
  },
  {
   "cell_type": "code",
   "execution_count": null,
   "metadata": {},
   "outputs": [],
   "source": []
  }
 ],
 "metadata": {
  "kernelspec": {
   "display_name": "Python 3",
   "language": "python",
   "name": "python3"
  },
  "language_info": {
   "codemirror_mode": {
    "name": "ipython",
    "version": 3
   },
   "file_extension": ".py",
   "mimetype": "text/x-python",
   "name": "python",
   "nbconvert_exporter": "python",
   "pygments_lexer": "ipython3",
   "version": "3.7.3"
  }
 },
 "nbformat": 4,
 "nbformat_minor": 2
}
